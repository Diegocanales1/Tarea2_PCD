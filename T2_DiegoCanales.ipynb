{
 "cells": [
  {
   "cell_type": "markdown",
   "id": "b07d6579",
   "metadata": {},
   "source": [
    "## ¿Qué es MLOps?"
   ]
  },
  {
   "cell_type": "markdown",
   "id": "9f04b0d8",
   "metadata": {},
   "source": [
    "MLOps es el conjunto de procesos para llevar un modelo de Machine Learning a producción de forma que sea escalable, confiable y preciso.\n",
    "\n",
    "Lo necesitamos porque no basta con entrenar un modelo:\n",
    "\n",
    "- Los modelos usan mucha data que es difícil manejar.\n",
    "\n",
    "- Pequeños cambios en parámetros afectan mucho los resultados.\n",
    "\n",
    "- Hay que controlar las características (features) usadas.\n",
    "\n",
    "- Monitorear y depurar un modelo es más complejo que en software común.\n",
    "\n",
    "- Los datos del mundo real cambian, y el modelo debe adaptarse."
   ]
  },
  {
   "cell_type": "markdown",
   "id": "985fab93",
   "metadata": {},
   "source": [
    "## DevOps vs MLOps"
   ]
  },
  {
   "cell_type": "markdown",
   "id": "4a28f51c",
   "metadata": {},
   "source": [
    "DevOps se enfoca en desarrollar y desplegar aplicaciones de software (planear, programar, probar, lanzar y monitorear).\n",
    "\n",
    "MLOps es parecido, pero con pasos adicionales:\n",
    "\n",
    "- Scoping: definir el problema y verificar que necesite ML y tenga datos adecuados.\n",
    "\n",
    "- Data Engineering: recolectar, limpiar y organizar los datos.\n",
    "\n",
    "- Modeling: crear y entrenar el modelo, medir errores y rendimiento.\n",
    "\n",
    "- Deployment: empaquetar y desplegar el modelo (API, contenedor, nube, móvil, etc.).\n",
    "\n",
    "- Monitoring: vigilar la infraestructura y el desempeño del modelo, ajustarlo cuando cambien los datos o surja sesgo."
   ]
  },
  {
   "cell_type": "markdown",
   "id": "42be9ac7",
   "metadata": {},
   "source": [
    "## ML Production Infrastructure"
   ]
  },
  {
   "cell_type": "markdown",
   "id": "ff61700a",
   "metadata": {},
   "source": [
    "Para poner un modelo de Machine Learning en producción se necesita mucho más que solo el código. Los principales componentes son:\n",
    "\n",
    "- Data Collection: reunir grandes cantidades de datos de diferentes fuentes.\n",
    "\n",
    "- Data Verification: comprobar que los datos sean válidos, actuales y bien estructurados.\n",
    "\n",
    "- Feature Extraction: elegir las variables (features) más importantes y descartar las irrelevantes.\n",
    "\n",
    "- Configuration: definir cómo se comunican los distintos sistemas (base de datos, endpoints, formato de inputs, etc.).\n",
    "\n",
    "- ML Code: desarrollar y mejorar el modelo con librerías como TensorFlow, PyTorch o scikit-learn.\n",
    "\n",
    "- Machine Resource Management: planear recursos de cómputo (CPU, GPU, memoria, almacenamiento y costos).\n",
    "\n",
    "- Analysis Tool: medir el rendimiento del modelo (pérdida, error, overfitting, drift).\n",
    "\n",
    "- Project Management Tool: organizar el proyecto y dar seguimiento al trabajo con datos y modelos.\n",
    "\n",
    "- Serving Infrastructure: desplegar el modelo en la nube (AWS, GCP, Azure) o en dispositivos/edge (apps móviles, chips especializados).\n",
    "\n",
    "- Monitoring: supervisar el modelo y la infraestructura con logs y herramientas de monitoreo."
   ]
  },
  {
   "cell_type": "markdown",
   "id": "3d7fc67c",
   "metadata": {},
   "source": []
  }
 ],
 "metadata": {
  "language_info": {
   "name": "python"
  }
 },
 "nbformat": 4,
 "nbformat_minor": 5
}
